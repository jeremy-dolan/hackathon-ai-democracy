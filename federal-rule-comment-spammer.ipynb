{
  "cells": [
    {
      "cell_type": "markdown",
      "metadata": {
        "id": "063dQuN4p_Wi"
      },
      "source": [
        "## AI x Democracy - Hackathon Sprint\n",
        "\n",
        "This notebook was co-authored by [@jeremy-dolan](https://github.com/jeremy-dolan) and [@sampatt](https://github.com/sampatt) as part of Apart Research's [AI x Democracy hackathon](https://www.apartresearch.com/event/ai-democracy). Our group's overarching project investigated U.S. federal agencies' public comment systems vulnerability to AI-driven manipulation. This notebook demonstrates the automated generation of arbitrarily-many diverse, fake public comments from fictitious persons responding to proposed federal rules and regulations (as posted to [regulations.gov](https://www.regulations.gov/)).\n",
        "\n",
        "Further information on our team's project: https://www.apartresearch.com/project/artificial-advocates-biasing-democratic-feedback-using-ai\n"
      ]
    },
    {
      "cell_type": "code",
      "execution_count": null,
      "metadata": {
        "colab": {
          "base_uri": "https://localhost:8080/"
        },
        "id": "6E2NjHGrDzMW",
        "outputId": "43ea60b2-79f1-46bc-9511-9cf733acacb3"
      },
      "outputs": [],
      "source": [
        "!pip install pandas\n",
        "!pip install numpy\n",
        "!pip install replicate\n",
        "!pip install faker"
      ]
    },
    {
      "cell_type": "code",
      "execution_count": 2,
      "metadata": {
        "id": "F2Z1J6ERhfRO"
      },
      "outputs": [],
      "source": [
        "import pandas as pd\n",
        "import numpy as np\n",
        "import io\n",
        "import replicate\n",
        "import random\n",
        "import textwrap\n",
        "from faker import Faker"
      ]
    },
    {
      "cell_type": "code",
      "execution_count": 53,
      "metadata": {
        "colab": {
          "base_uri": "https://localhost:8080/"
        },
        "id": "8Lv-ye6ci6oU",
        "metadata": {},
        "outputId": "1a40c158-4e0b-48ed-a0ec-6939067e0b77"
      },
      "outputs": [
        {
          "name": "stdout",
          "output_type": "stream",
          "text": [
            "Sam Ciraulo, from Troy, NY, said:\n",
            "\n",
            "\"As one who took out student loans as both an undergraduate and graduate student and who worked two jobs to pay off my loans (while raising a family) I am opposed to the proposed regulatory changes being put forth by the administration.   It not only rewards  borrowers for having shirked their obligation to pay (and don’t tell me that it is too difficult to get out from under the debt.  I guarantee that every single one of the borrowers who will benefit from this change has a $1000 cell phone, or owns a car that is less than three or four years old.)\n",
            "\n",
            "Additionally, I paid my loans off… why should my tax dollars pay off someone else’s loan?  Does not make sense.  \n",
            "\n",
            "Finally, this is nothing more than pandering for votes by the Biden administration and it frankly it disgusts me!\n",
            "\n",
            "This rule change is simply bad and should not be implemented\"\n"
          ]
        }
      ],
      "source": [
        "# Load human dataset and display a random comment\n",
        "\n",
        "# (Google Colab version)\n",
        "# from google.colab import files\n",
        "# uploads = files.upload()\n",
        "# df = pd.read_csv(uploads['comments.csv'])\n",
        "\n",
        "# comments from Docket ED-2023-OPE-0123, Document ID ED-2023-OPE-0123-26398\n",
        "# https://www.regulations.gov/document/ED-2023-OPE-0123-26398\n",
        "df = pd.read_csv('datasets/human-written/full-comments-dataset.csv')\n",
        "\n",
        "random_comment = df.sample(n=1)\n",
        "\n",
        "first_name = random_comment['First Name'].values[0]\n",
        "last_name = random_comment['Last Name'].values[0]\n",
        "city = random_comment['City'].values[0]\n",
        "state_province = random_comment['State/Province'].values[0]\n",
        "comment = random_comment['Comment'].values[0]\n",
        "\n",
        "formatted_comment = f\"{first_name} {last_name}, from {city}, {state_province}, said:\\n\\n\\\"{comment}\\\"\"\n",
        "print(formatted_comment)"
      ]
    },
    {
      "cell_type": "code",
      "execution_count": 24,
      "metadata": {
        "id": "blFxWxCtPMr7",
        "metadata": {}
      },
      "outputs": [
        {
          "name": "stdout",
          "output_type": "stream",
          "text": [
            "714: Todd Simmons, from Tucson, AZ, said:\n",
            "\n",
            "\"This is over complicated \n",
            "\n",
            "Instead of amounts you should do dates like if a student was enrolled from 2005-2018 then are immediately eligible for a 50% loan reduction. \n",
            "\n",
            "Also im not seeing a needed fix in providing disability. If your going to have tbe disability forgiveness program you need to understand that certain social security situations don't require a \"review\" period especially for veterans with a 100% total and permanent. I know people who submitted their awards letters who have been disabled for years and couldn't qualify. That's just not right. \"\n",
            "\n",
            "188: Malesha Padgett, from Daytona Beach, FL, said:\n",
            "\n",
            "\"There is no way people should be forced to pay a loan or put food on the table.  America needs to be ashamed of how they treat their own citizens.  People went into debt trying to provide a better life for their families.  Now they can barely pay their bills, live paycheck to paycheck, and get no help from our government.  Loans that have been outstanding for over 10 years will probably never get paid any way.  Clean the debt.  \"\n",
            "\n",
            "847: Taryn Farmer, from Dundalk, MD, said:\n",
            "\n",
            "\"While I am happy and appreciative of the President's initiative towards student loan relief, I am disheartened that I am not included due to my current situation.  My original loan date was in 2000, and because of many financial hardships, I am still paying off my loan.  It has been transferred to various companies over the years, currently being held by AES (American Education Services), under an IDR program.  When I reached out to the federal agency to receive information, I was told I can not be included in the loan forgiveness since I'm not a service professional and my loan can't be transferred into the SAVE program.  \n",
            "\n",
            "I don't feel it's fair for those of us whose loans were transferred to these consolidation companies to be overlooked and forced to continue to pay for loans that over 20 years old!  The reason I'm in this situation is because of financial hardships, it wasn't a choice.\n",
            "\n",
            "I don't believe this was a situation that has properly been thought of by the Dept of Ed, and if it has, then it needs to be properly explained how to get help!\n",
            "\n",
            "Thank you.\"\n",
            "\n",
            "1510: Anonymous Anonymous, from nan, nan, said:\n",
            "\n",
            "\"This is unconstitutional and stealing from the American taxpayers.  If anyone signs a loan, they solely are responsible.  I didn’t go to college at 18 because I couldn’t afford it.  I didn’t want the debt. Any money I have, I worked for.  Where is relief for loans that farmers, mechanics, hairstylists, or business owners that had to take out loans.  Biden is buying votes!!! Don’t ignore the Supreme Court!!!\"\n",
            "\n",
            "627: Jennifer Gorman, from Windsor, WI, said:\n",
            "\n",
            "\"Student Loan debt has grown astronomically on false hopes of securing better employment. Some of these students are first time college entrants in the family. These students are hoping for a better life, better income, planning for a future.. reaching a dream job. \n",
            "The citizens of the United States can complain all they want about NOT MY DEBT... The Government takes from us everyday, they tax us until we can't be taxed anymore... Taxes on income, taxes to buy products FROM overseas with our taxed income, then paying more taxes during tax season. \n",
            "When I took out my loans back in 2002 to start my journey (which should have been 4 years) I ended up with $52K in loans by the time 2016 came around. This is after 2 loans were garnished during a VERY bad time in my life trying to raise my son on one income (serving food and bartending). The program curriculum changed three separate times during the first program I entered. All I wanted was the two year degree then transfer the credits to the 4 year college. I ended up with worthless degrees and now am self-taught with two jobs trying to raise my daughter and send my son money. His Father passed away in 2019. My loans.. now are at over $80K. They have been transferred four times, consolidated (off of suggestions at the time from lenders), garnished, interest went from 3.4% up to now 6.25%.. I will be dead before these loans are paid off and I WILL NEVER OWN A HOME... EVER!!! My children will live just as how I did growing up, poor and I am working two jobs. I'm not taking hand-outs, I'm not flipping burgers complaining that I want my loans wiped out. I fully understand the ramifications. We are facing those right now from the covid handouts (inflation), its paying all that back. \n",
            "I just want some relief so MAYBE I can give my children a life they deserve, I know I won't get that life, but they need it.\"\n",
            "\n"
          ]
        }
      ],
      "source": [
        "# Export 5 random comments from the dataset\n",
        "\n",
        "# Select sample size\n",
        "random_comments = df.sample(n=5)\n",
        "\n",
        "# Select columns to retain\n",
        "columns_to_retain = ['First Name', 'Last Name', 'City', 'State/Province', 'Comment', 'Category']\n",
        "filtered_comments = random_comments[columns_to_retain]\n",
        "\n",
        "# Create a new CSV from these filtered comments\n",
        "filtered_comments.to_csv('comments_random_filtered.csv', index=False)\n",
        "\n",
        "# Preview comments\n",
        "for index, row in filtered_comments.iterrows():\n",
        "    formatted_comment = f\"{index}: {row['First Name']} {row['Last Name']}, from {row['City']}, {row['State/Province']}, said:\\n\\n\\\"{row['Comment']}\\\"\\n\"\n",
        "    print(formatted_comment)"
      ]
    },
    {
      "cell_type": "code",
      "execution_count": 18,
      "metadata": {
        "colab": {
          "base_uri": "https://localhost:8080/"
        },
        "id": "5ZTkrAUhoIJE",
        "metadata": {},
        "outputId": "3a275143-6d37-4212-9f3d-e1c3b7d2ca5b"
      },
      "outputs": [],
      "source": [
        "# Interactively load Replicate API token\n",
        "from getpass import getpass\n",
        "import os\n",
        "\n",
        "REPLICATE_API_TOKEN = getpass()\n",
        "os.environ[\"REPLICATE_API_TOKEN\"] = REPLICATE_API_TOKEN"
      ]
    },
    {
      "cell_type": "code",
      "execution_count": 44,
      "metadata": {
        "id": "javKT2D1Dvp1",
        "metadata": {}
      },
      "outputs": [
        {
          "name": "stdout",
          "output_type": "stream",
          "text": [
            "Ava Morales, from Fresno, CA, said:\n",
            "\n",
            "\"I strongly disagree with this proposal to forgive student loan debt. It's unfair to burden hardworking taxpayers, many of whom had to forgo higher education due to financial constraints, with the responsibility of paying off the debts of others who chose to take out loans they couldn't afford to repay.\""
          ]
        }
      ],
      "source": [
        "# Stream a simple one-shot completion to test API access\n",
        "new_prompt = (\n",
        "    f\"Writing a two-sentence comment in {random.choice(['support of', 'opposition to'])} a proposed regulation to forgive student loan debt. \"\n",
        "    f\"Create a new alias and location, and use the following comment as an example:\\n\\n<example>\\n{formatted_comment}\\n</example>\\n\"\n",
        "    f\"Only respond with the comment, no other explanation. Comment:\\n\\n\"\n",
        ")\n",
        "\n",
        "for event in replicate.stream(\n",
        "    \"meta/meta-llama-3-70b-instruct\",\n",
        "    input={\n",
        "        \"prompt\": new_prompt,\n",
        "        \"max_tokens\": 200\n",
        "    },\n",
        "):\n",
        "    print(str(event), end=\"\")"
      ]
    },
    {
      "cell_type": "code",
      "execution_count": 20,
      "metadata": {
        "colab": {
          "base_uri": "https://localhost:8080/"
        },
        "id": "SZYIo1J4ZLWy",
        "outputId": "235360c6-72d9-478d-8380-ba2dc4a88ab5"
      },
      "outputs": [
        {
          "name": "stdout",
          "output_type": "stream",
          "text": [
            "2331 597\n"
          ]
        }
      ],
      "source": [
        "# TODO: automatically scrape executive summary and generate alternative short summary\n",
        "\n",
        "# verbatim 'Executive Summary' from the Proposed Rule document\n",
        "# https://www.regulations.gov/document/ED-2023-OPE-0123-26398\n",
        "\n",
        "executive_summary = f\"Since 1980, the total cost to receive a four-year postsecondary credential has nearly tripled, even after accounting for inflation. Pell Grants once covered nearly 80 percent of the cost of a four-year public college degree for students from low- and middle-income families, but now they only cover a third of those costs. This price growth has dramatically increased the need for students to secure student loans, particularly Federal student loans from the Department, to cover their educational costs. The gap between prices and income means that many students from low- and middle-income families have to borrow Federal student loans in addition to grants and out-of-pocket spending so they can earn a postsecondary credential. These trends have resulted in cumulative Federal loan debt of $1.6 trillion and rising for more than 43 million borrowers, which has placed a significant financial burden upon middle-income borrowers and has had an even more devastating impact on vulnerable low-income borrowers.\\n\\nAfter convening the Student Loan Debt Relief negotiated rulemaking committee (Committee) and reaching consensus on various issues discussed in this NPRM, the Department proposes regulations, in accordance with the Secretary's authority to waive repayment of a loan provided by section 432(a) of the HEA, to provide debt relief targeted to address certain specific circumstances as part of a comprehensive effort to address the burden of Federal student loan debt. The proposed regulations would modify the Department's existing debt collection regulations to provide greater specificity regarding the Secretary's discretion to waive Federal student loan debt and specify the Secretary's authority to waive all or part of any debts owed to the Department based on a number of different circumstances, such as growth in a borrower's loan balance beyond what was owed upon entering repayment, the amount of time since the loan first entered repayment, whether the borrower meets certain criteria for loan forgiveness or discharge under existing authority, and whether a loan was obtained to attend an institution or program that was subject to secretarial actions, that closed prior to secretarial actions, or was associated with closed Gainful Employment programs with high debt-to-earnings rates or low median earnings.\"\n",
        "\n",
        "# two sentence summary of above generated by GPT4-turbo\n",
        "short_summary = (\n",
        "    \"The policy addresses the sharp increase in the cost of four-year postsecondary education, \"\n",
        "    \"which has outpaced the coverage of Pell Grants and significantly increased reliance on \"\n",
        "    \"Federal student loans, leading to a cumulative debt of $1.6 trillion among over 43 million \"\n",
        "    \"borrowers. In response, the Department of Education proposes regulations to provide targeted \"\n",
        "    \"debt relief by specifying the Secretary's authority to waive portions of Federal student \"\n",
        "    \"loan debt under various conditions, aiming to alleviate the financial burden on borrowers, \"\n",
        "    \"especially those from vulnerable low-income backgrounds.\"\n",
        ")\n",
        "\n",
        "print(len(executive_summary), len(short_summary))"
      ]
    },
    {
      "cell_type": "code",
      "execution_count": 30,
      "metadata": {
        "id": "XYMEJB0-0BIm"
      },
      "outputs": [],
      "source": [
        "# Fake persona generator\n",
        "\n",
        "fake = Faker()\n",
        "\n",
        "def gen_persona() -> dict:\n",
        "    \"\"\"Roll a random name, age, and location, and generate a backstory for this fictitious person\"\"\"\n",
        "    fake_first_name = fake.first_name()\n",
        "    fake_last_name = fake.last_name()\n",
        "    fake_city = fake.city()           # NB: Faker() returns fictional places, and never large, well-known cities. This biases\n",
        "    fake_state = fake.state()         #     the biographies. Better would be to sample real cities proportional to population.\n",
        "    fake_age = random.randint(18, 80)\n",
        "    prompt = (\n",
        "        f\"You are assisting an author create backgrounds for minor characters in a novel. Nothing too unusual, \"\n",
        "        f\"these are just typical folks. Write a one paragraph backstory for {fake_first_name} {fake_last_name}, \"\n",
        "        f\"{fake_age} from {fake_city}, {fake_state}.\\nBegin your response with 'Background:'\\nBackground: \"\n",
        "        )\n",
        "\n",
        "    fake_biography = ''.join(replicate.run(\n",
        "        \"meta/meta-llama-3-70b-instruct\",\n",
        "        input={\"prompt\": prompt, \"max_tokens\": 500, \"temperature\": 1.0 }))\n",
        "\n",
        "    return {\n",
        "        'first_name': fake_first_name,\n",
        "        'last_name': fake_last_name,\n",
        "        'city': fake_city,\n",
        "        'state': fake_state,\n",
        "        'age': fake_age,\n",
        "        'biography': fake_biography\n",
        "    }"
      ]
    },
    {
      "cell_type": "code",
      "execution_count": 34,
      "metadata": {
        "colab": {
          "base_uri": "https://localhost:8080/"
        },
        "id": "vGB5dRHQBDDS",
        "outputId": "e3ea0230-36f1-49eb-ac7e-495d38163061"
      },
      "outputs": [
        {
          "name": "stdout",
          "output_type": "stream",
          "text": [
            "Generated Jonathan Hawkins, 65, from New Nicholas, Oregon\n",
            "Background: Jonathan Hawkins, a 65-year-old retiree from New Nicholas, Oregon,\n",
            "spent most of his working life as a high school history teacher, instilling a\n",
            "love of the past in generations of students. Born and raised in New Nicholas,\n",
            "Jonathan's family roots run deep in the small town, where his great-grandfather\n",
            "was a pioneer settler. After marrying his high school sweetheart, Susan,\n",
            "Jonathan settled into a comfortable routine, teaching by day and coaching the\n",
            "school's debate team by night. The couple had two children, both now grown with\n",
            "families of their own, and Jonathan's proudest moments are still the times his\n",
            "kids brought home their own history projects, proudly displaying their father's\n",
            "influence. After Susan's passing five years ago, Jonathan found solace in his\n",
            "garden, tending to the same roses and vegetables he and his wife once nurtured\n",
            "together. He remains a respected figure in the community, often sought out for\n",
            "his knowledge of local history and his willingness to lend a helping hand.\n"
          ]
        }
      ],
      "source": [
        "# test gen_persona()\n",
        "persona = gen_persona()\n",
        "print(f'Generated {persona[\"first_name\"]} {persona[\"last_name\"]}, {persona[\"age\"]}, from {persona[\"city\"]}, {persona[\"state\"]}')\n",
        "print(textwrap.fill(persona['biography'], width=80))"
      ]
    },
    {
      "cell_type": "code",
      "execution_count": 43,
      "metadata": {
        "colab": {
          "base_uri": "https://localhost:8080/"
        },
        "id": "nZLq-0O2Y1hY",
        "outputId": "dff6ed9a-ac1f-4fb0-9aae-f88e2ab79f85"
      },
      "outputs": [
        {
          "name": "stdout",
          "output_type": "stream",
          "text": [
            "temperature=0.8, stance=support of, tone=analytic, length=2 paragraphs\n",
            "\n",
            "Background: James Kent grew up in Lake Victorland, Ohio, where his family had lived for generations. He was the youngest of five siblings, and his parents owned a small hardware store on Main Street. After high school, James worked at the store alongside his parents, eventually taking over the business when they retired. He married his high school sweetheart, Susan, and they had two children, Emily and Ryan. James was an active member of the community, coaching Little League and serving on the local Chamber of Commerce. After Susan passed away suddenly in her early 50s, James continued to run the hardware store, but his heart wasn't in it. He sold the business a few years ago and now spends his days puttering around his garden, volunteering at the local animal shelter, and spoiling his grandkids rotten. Despite the struggles he's faced, James remains a kind and optimistic soul, always willing to lend a helping hand or offer a sympathetic ear.\n",
            "\n",
            "You are an expert writing assistant tasked with writing a public comment on behalf of James Kent.\n",
            "You should only mention information from James's background if it is directly pertinent to the comment.\n",
            "The public comment is in regards to a proposed regulation to forgive student loan debt.\n",
            "The comment should be in support of the proposal.\n",
            "The comment should be analytic and about 2 paragraphs long.\n",
            "\n",
            "Here is a summary of the proposed rule:\n",
            "<summary>\n",
            "Since 1980, the total cost to receive a four-year postsecondary credential has nearly tripled, even after accounting for inflation. Pell Grants once covered nearly 80 percent of the cost of a four-year public college degree for students from low- and middle-income families, but now they only cover a third of those costs. This price growth has dramatically increased the need for students to secure student loans, particularly Federal student loans from the Department, to cover their educational costs. The gap between prices and income means that many students from low- and middle-income families have to borrow Federal student loans in addition to grants and out-of-pocket spending so they can earn a postsecondary credential. These trends have resulted in cumulative Federal loan debt of $1.6 trillion and rising for more than 43 million borrowers, which has placed a significant financial burden upon middle-income borrowers and has had an even more devastating impact on vulnerable low-income borrowers.\n",
            "\n",
            "After convening the Student Loan Debt Relief negotiated rulemaking committee (Committee) and reaching consensus on various issues discussed in this NPRM, the Department proposes regulations, in accordance with the Secretary's authority to waive repayment of a loan provided by section 432(a) of the HEA, to provide debt relief targeted to address certain specific circumstances as part of a comprehensive effort to address the burden of Federal student loan debt. The proposed regulations would modify the Department's existing debt collection regulations to provide greater specificity regarding the Secretary's discretion to waive Federal student loan debt and specify the Secretary's authority to waive all or part of any debts owed to the Department based on a number of different circumstances, such as growth in a borrower's loan balance beyond what was owed upon entering repayment, the amount of time since the loan first entered repayment, whether the borrower meets certain criteria for loan forgiveness or discharge under existing authority, and whether a loan was obtained to attend an institution or program that was subject to secretarial actions, that closed prior to secretarial actions, or was associated with closed Gainful Employment programs with high debt-to-earnings rates or low median earnings.\n",
            "</summary>\n",
            "\n",
            "Use the following comments as examples:\n",
            "<comment>\n",
            "I have over $95,000 in student loan debt and $60,000 plus is from interest alone. I haven’t been able to qualify for any debt forgiveness through any of the programs. I have four years that count towards PSLF, however, I was being sexually harassed by the administrator and had to quit. (He was found guilty by the facilities lawyer and fired) Since then the facility has been sold to a corporation and is no longer a non profit. There are very very limited non profits and the ones that are in my area do not pay enough for how expensive it is to just make it these days. I need a new vehicle but am unable to afford payments due to my student loan payments. I’m fully aware that I had a loan and loans are to be paid back, but this interest that has accrued should be a crime. I have no debt relief in the near future and it’s very debilitating. I have four children and raised them on my own and went to nursing school to better myself for my children to have a better life. I worked the frontline on Covid units in the trenches of the nursing home where we were all those residents had. I feel like I’ve been just given this massive amount of money to owe and to pay back for the rest of my life and it’s a slap in the face from everything we’ve been through during Covid lockdown, not to mention the PTSD most of us in healthcare have now from the things we’ve had to endure and witness. I’m not asking for a handout, I’m asking for a life changing opportunity! Please! I want to be able to continue to provide for myself and my family and having the interest wiped away would tremendously benefit. Thank you for your time. \n",
            "</comment>\n",
            "\n",
            "<comment>\n",
            "It's a horrible idea fiscally. It will encourage multiple lawsuits as to it's validity as well.\n",
            "</comment>\n",
            "\n",
            "<comment>\n",
            "AGAINST ANY student loan debt relief that is not vested in some form of dedicated payback process, for example teachers being tenured after ten years of service, or one's ability to provide services to less favorable outlying geographic/demographic areas.  This destroys accountability and ownership of a debt that was elective to begin with in order to improve one's marketability and ultimately their prosperity.\n",
            "\n",
            "What's next on the agenda -- home mortgage forgiveness?  I'm all in favor of a one-time program for veterans that served to protect our country.  They deserve it more than others that are getting handouts at tax-payer's expense.  If this is an effort to buy votes, then mine has been lost to a system that is ill-founded and not equitable.\n",
            "\n",
            "Once again, I'm AGAINST THIS PROGRAM OR ANYTHING ELSE THAT IS NOT BASED ON SOME FORM OF ACCOUNTABILITY OR VESTING. \n",
            "</comment>\n",
            "\n",
            "Please respond with only the comment, no other preamble or explanation. Do not start any sentences with the word 'As'. Do not use the word 'firsthand'.\n",
            "Comment: \n",
            "I strongly support the proposed regulation to forgive student loan debt. Having\n",
            "lived in Lake Victorland, Ohio, my entire life, I've seen many young people from\n",
            "low- and middle-income families struggle to afford the rising costs of higher\n",
            "education. The current system has placed an undue burden on these students,\n",
            "forcing them to take on significant debt just to earn a degree. By providing\n",
            "debt relief, we can help level the playing field and give these individuals a\n",
            "fair shot at achieving their goals without being crippled by debt.\n",
            "\n",
            "As a former business owner and member of the local Chamber of Commerce, I\n",
            "understand the importance of investing in our community's future. By forgiving\n",
            "student loan debt, we can stimulate economic growth, increase consumer spending,\n",
            "and attract talented workers to our area. This proposal is a crucial step\n",
            "towards creating a more equitable and sustainable system that benefits everyone,\n",
            "not just those who can afford it. I urge the Department to move forward with\n",
            "this regulation and provide much-needed relief to the millions of borrowers\n",
            "struggling under the weight of student loan debt.\n",
            "\n",
            "------\n",
            "\n",
            "\n"
          ]
        }
      ],
      "source": [
        "# Main loop - GENERATE COMMENT ON POLICY\n",
        "\n",
        "# List to store all outputs from the model\n",
        "all_outputs = []\n",
        "\n",
        "for _ in range(1): # number of comments to generate\n",
        "    # Select three random human comments\n",
        "    random_human_comments = df.sample(n=3)\n",
        "\n",
        "    # Concatenate into pseudo-XML string\n",
        "    formatted_comments = '\\n'.join(f'<comment>\\n{row.Comment}\\n</comment>\\n' \\\n",
        "                                     for row in random_human_comments.itertuples())\n",
        "\n",
        "    # make a new fake persona\n",
        "    persona = gen_persona()\n",
        "\n",
        "    # randomize prompt variables:\n",
        "    #temperature = random.randint (6, 12) * 0.1   # temperature range 0.6-1.2\n",
        "    temperature = 0.8\n",
        "    stance = random.choice([\"support of\", \"opposition to\"])\n",
        "    tone = random.choice(['informal', 'formal', 'analytic', 'fervent', 'diplomatic']) # there's additional potential here. 'sarcastic' is fun but a little over the top.\n",
        "    length = random.choice([\"2 sentences\", \"1 paragraph\", \"2 paragraphs\"])\n",
        "    summary_provided = random.choice([\n",
        "        ['none',      \"\"],\n",
        "        ['short',     f\"\\nHere is a summary of the proposed rule:\\n<summary>\\n{short_summary}\\n</summary>\\n\"],\n",
        "        ['executive', f\"\\nHere is a summary of the proposed rule:\\n<summary>\\n{executive_summary}\\n</summary>\\n\"],\n",
        "    ])\n",
        "\n",
        "    # Assemble the prompt to generate a comment on the proposed rule\n",
        "    prompt = (f\"\"\"\\\n",
        "{persona['biography']}\n",
        "\n",
        "You are an expert writing assistant tasked with writing a public comment on behalf of {persona['first_name']} {persona['last_name']}.\n",
        "You should only mention information from {persona['first_name']}'s background if it is directly pertinent to the comment.\n",
        "The public comment is in regards to a proposed regulation to forgive student loan debt.\n",
        "The comment should be in {stance} the proposal.\n",
        "The comment should be {tone} and about {length} long.\n",
        "{summary_provided[1]}\n",
        "Use the following comments as examples:\n",
        "{formatted_comments}\n",
        "Please respond with only the comment, no other preamble or explanation. Do not start any sentences with the word 'As'. Do not use the word 'firsthand'.\n",
        "Comment: \"\"\")\n",
        "\n",
        "    print(f'temperature={temperature}, stance={stance}, tone={tone}, length={length}\\n')\n",
        "    print(prompt)\n",
        "\n",
        "    comment = ''.join(replicate.run(\n",
        "        \"meta/meta-llama-3-70b-instruct\",\n",
        "        input={\"prompt\": prompt, \"max_tokens\": 500, \"temperature\": temperature }))\n",
        "\n",
        "    all_outputs.append({\n",
        "        'first_name': persona['first_name'],\n",
        "        'last_name': persona['last_name'],\n",
        "        'city': persona['city'],\n",
        "        'state': persona['state'],\n",
        "        'response': comment,\n",
        "        'bio': persona['bio']\n",
        "        })\n",
        "\n",
        "    print(\"\\n\".join(textwrap.fill(line, width=80) for line in comment.split('\\n')))\n",
        "    print('\\n------\\n\\n')\n",
        "\n",
        "# Convert list of outputs to DataFrame\n",
        "output_df = pd.DataFrame(all_outputs)\n",
        "\n",
        "# Save the DataFrame to CSV\n",
        "output_df.to_csv('llm_outputs_character_gen-run3.csv', index=False)"
      ]
    }
  ],
  "metadata": {
    "colab": {
      "provenance": []
    },
    "kernelspec": {
      "display_name": "Python 3",
      "name": "python3"
    },
    "language_info": {
      "codemirror_mode": {
        "name": "ipython",
        "version": 3
      },
      "file_extension": ".py",
      "mimetype": "text/x-python",
      "name": "python",
      "nbconvert_exporter": "python",
      "pygments_lexer": "ipython3",
      "version": "3.11.2"
    }
  },
  "nbformat": 4,
  "nbformat_minor": 0
}
